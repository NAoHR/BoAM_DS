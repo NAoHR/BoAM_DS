{
 "cells": [
  {
   "cell_type": "markdown",
   "metadata": {},
   "source": [
    "# Workflow Eksplorasi BoAM Successor\n",
    "\n",
    "File Ini bertujuan untuk sebagai dokumentasi alur kerja / workflow tim BoAM Successor dalam mengolah data-data yang di dapat"
   ]
  },
  {
   "cell_type": "markdown",
   "metadata": {},
   "source": [
    "##### Library Yang dibutuhkan Untuk Proses Pengolahan Data"
   ]
  },
  {
   "cell_type": "code",
   "execution_count": 1,
   "metadata": {},
   "outputs": [],
   "source": [
    "import pandas as pd\n",
    "import numpy as np"
   ]
  },
  {
   "cell_type": "markdown",
   "metadata": {},
   "source": [
    "##### Fungsi Pembersihan Data"
   ]
  },
  {
   "cell_type": "code",
   "execution_count": 2,
   "metadata": {},
   "outputs": [],
   "source": [
    "def clean_Aplikasi_Ecommerce(name):\n",
    "    if \"tiktok\" in \"\".join(name.lower().split()):\n",
    "        return \"Tiktok Shop\"\n",
    "    return name\n",
    "\n",
    "def clean_Waktu_Belanja_Online(waktu):\n",
    "    if waktu == \"Tanggal promo saja seperti (11.11, 12.12 dll)\":\n",
    "        return \"Tanggal Promo\"\n",
    "    return waktu\n",
    "\n",
    "def clean_Jenis_Barang(jenis_barang):\n",
    "    return jenis_barang.replace(\"Kecantikan (makeup, skincare, dsb)\", \"Kecantikan\")"
   ]
  },
  {
   "cell_type": "markdown",
   "metadata": {},
   "source": [
    "##### Pemanggilan dan Pembersihan Data"
   ]
  },
  {
   "cell_type": "code",
   "execution_count": 3,
   "metadata": {},
   "outputs": [
    {
     "data": {
      "text/html": [
       "<div>\n",
       "<style scoped>\n",
       "    .dataframe tbody tr th:only-of-type {\n",
       "        vertical-align: middle;\n",
       "    }\n",
       "\n",
       "    .dataframe tbody tr th {\n",
       "        vertical-align: top;\n",
       "    }\n",
       "\n",
       "    .dataframe thead th {\n",
       "        text-align: right;\n",
       "    }\n",
       "</style>\n",
       "<table border=\"1\" class=\"dataframe\">\n",
       "  <thead>\n",
       "    <tr style=\"text-align: right;\">\n",
       "      <th></th>\n",
       "      <th>Nama</th>\n",
       "      <th>Umur</th>\n",
       "      <th>Tingkatan_Pendidikan</th>\n",
       "      <th>Jenis_kelamin</th>\n",
       "      <th>Pengetahuan_Bisnis_Digital</th>\n",
       "      <th>Pengetahuan_ECommerce</th>\n",
       "      <th>Keinginan_Buka_Usaha</th>\n",
       "      <th>Aplikasi_Ecommerce</th>\n",
       "      <th>Jenis_Barang</th>\n",
       "      <th>Kelebihan_Belanja_Online</th>\n",
       "      <th>Waktu_Belanja_Online</th>\n",
       "      <th>Faktor_Tertarik_Belanja_Online</th>\n",
       "    </tr>\n",
       "  </thead>\n",
       "  <tbody>\n",
       "    <tr>\n",
       "      <th>0</th>\n",
       "      <td>fendi setiawan</td>\n",
       "      <td>17</td>\n",
       "      <td>SMA/SMK</td>\n",
       "      <td>Laki laki</td>\n",
       "      <td>1</td>\n",
       "      <td>5</td>\n",
       "      <td>5</td>\n",
       "      <td>Lazada</td>\n",
       "      <td>Elektronik, Fashion, Makanan, Pakaian, Tiket</td>\n",
       "      <td>Efisien</td>\n",
       "      <td>Tanggal Promo</td>\n",
       "      <td>Gratis ongkir</td>\n",
       "    </tr>\n",
       "    <tr>\n",
       "      <th>1</th>\n",
       "      <td>malika faiza</td>\n",
       "      <td>15</td>\n",
       "      <td>SMA/SMK</td>\n",
       "      <td>Perempuan</td>\n",
       "      <td>2</td>\n",
       "      <td>1</td>\n",
       "      <td>3</td>\n",
       "      <td>Shopee</td>\n",
       "      <td>Elektronik, Fashion, Pakaian, Sepatu, Buku, Ke...</td>\n",
       "      <td>Efisien</td>\n",
       "      <td>Pertengahan bulan</td>\n",
       "      <td>Gratis ongkir</td>\n",
       "    </tr>\n",
       "    <tr>\n",
       "      <th>2</th>\n",
       "      <td>fajrin amalia fauziah</td>\n",
       "      <td>16</td>\n",
       "      <td>SMA/SMK</td>\n",
       "      <td>Perempuan</td>\n",
       "      <td>3</td>\n",
       "      <td>4</td>\n",
       "      <td>4</td>\n",
       "      <td>Shopee</td>\n",
       "      <td>Makanan, Pakaian, Kecantikan</td>\n",
       "      <td>Promo, Harga</td>\n",
       "      <td>Pertengahan bulan</td>\n",
       "      <td>Gratis ongkir</td>\n",
       "    </tr>\n",
       "    <tr>\n",
       "      <th>4</th>\n",
       "      <td>muhamad qosim</td>\n",
       "      <td>19</td>\n",
       "      <td>SMA/SMK</td>\n",
       "      <td>Laki laki</td>\n",
       "      <td>4</td>\n",
       "      <td>4</td>\n",
       "      <td>5</td>\n",
       "      <td>Shopee</td>\n",
       "      <td>Elektronik, Fashion, Makanan</td>\n",
       "      <td>Promo, Harga</td>\n",
       "      <td>Awal bulan</td>\n",
       "      <td>Gratis ongkir</td>\n",
       "    </tr>\n",
       "    <tr>\n",
       "      <th>5</th>\n",
       "      <td>firyal alifah anshoriyah</td>\n",
       "      <td>17</td>\n",
       "      <td>SMA/SMK</td>\n",
       "      <td>Perempuan</td>\n",
       "      <td>1</td>\n",
       "      <td>1</td>\n",
       "      <td>5</td>\n",
       "      <td>Shopee</td>\n",
       "      <td>Fashion, Makanan, Pakaian, Sepatu, Buku, Kecan...</td>\n",
       "      <td>Promo, Harga, Efisien</td>\n",
       "      <td>Tanggal Promo</td>\n",
       "      <td>sesuai kebutuhan dsn mencari diskon serta grat...</td>\n",
       "    </tr>\n",
       "    <tr>\n",
       "      <th>6</th>\n",
       "      <td>cahaya ayu andini</td>\n",
       "      <td>15</td>\n",
       "      <td>SMA/SMK</td>\n",
       "      <td>Perempuan</td>\n",
       "      <td>4</td>\n",
       "      <td>1</td>\n",
       "      <td>4</td>\n",
       "      <td>Shopee</td>\n",
       "      <td>Makanan, Buku</td>\n",
       "      <td>Promo, Harga</td>\n",
       "      <td>Tanggal Promo</td>\n",
       "      <td>Diskon</td>\n",
       "    </tr>\n",
       "    <tr>\n",
       "      <th>7</th>\n",
       "      <td>dela ramadani</td>\n",
       "      <td>18</td>\n",
       "      <td>SMA/SMK</td>\n",
       "      <td>Perempuan</td>\n",
       "      <td>3</td>\n",
       "      <td>5</td>\n",
       "      <td>3</td>\n",
       "      <td>Shopee</td>\n",
       "      <td>Pakaian, Kecantikan</td>\n",
       "      <td>Promo, Harga</td>\n",
       "      <td>Pertengahan bulan</td>\n",
       "      <td>Barang tidak bisa ditemukan di dekat rumah</td>\n",
       "    </tr>\n",
       "    <tr>\n",
       "      <th>8</th>\n",
       "      <td>marwan wisnu</td>\n",
       "      <td>16</td>\n",
       "      <td>SMA/SMK</td>\n",
       "      <td>Laki laki</td>\n",
       "      <td>5</td>\n",
       "      <td>5</td>\n",
       "      <td>5</td>\n",
       "      <td>Shopee</td>\n",
       "      <td>Sepatu</td>\n",
       "      <td>Harga</td>\n",
       "      <td>Awal bulan</td>\n",
       "      <td>Diskon</td>\n",
       "    </tr>\n",
       "    <tr>\n",
       "      <th>9</th>\n",
       "      <td>gibran firdausy achmad</td>\n",
       "      <td>17</td>\n",
       "      <td>SMA/SMK</td>\n",
       "      <td>Laki laki</td>\n",
       "      <td>3</td>\n",
       "      <td>4</td>\n",
       "      <td>2</td>\n",
       "      <td>Shopee</td>\n",
       "      <td>Elektronik, Olahraga</td>\n",
       "      <td>Promo, Harga</td>\n",
       "      <td>Tanggal Promo</td>\n",
       "      <td>Diskon</td>\n",
       "    </tr>\n",
       "    <tr>\n",
       "      <th>10</th>\n",
       "      <td>brananti ratuasty</td>\n",
       "      <td>16</td>\n",
       "      <td>SMA/SMK</td>\n",
       "      <td>Perempuan</td>\n",
       "      <td>2</td>\n",
       "      <td>1</td>\n",
       "      <td>4</td>\n",
       "      <td>Shopee</td>\n",
       "      <td>Fashion, Kecantikan</td>\n",
       "      <td>Promo, Harga, Efisien</td>\n",
       "      <td>Awal bulan</td>\n",
       "      <td>Kebutuhan</td>\n",
       "    </tr>\n",
       "  </tbody>\n",
       "</table>\n",
       "</div>"
      ],
      "text/plain": [
       "                        Nama  Umur Tingkatan_Pendidikan Jenis_kelamin  \\\n",
       "0             fendi setiawan    17              SMA/SMK     Laki laki   \n",
       "1              malika faiza     15              SMA/SMK     Perempuan   \n",
       "2      fajrin amalia fauziah    16              SMA/SMK     Perempuan   \n",
       "4              muhamad qosim    19              SMA/SMK     Laki laki   \n",
       "5   firyal alifah anshoriyah    17              SMA/SMK     Perempuan   \n",
       "6          cahaya ayu andini    15              SMA/SMK     Perempuan   \n",
       "7             dela ramadani     18              SMA/SMK     Perempuan   \n",
       "8              marwan wisnu     16              SMA/SMK     Laki laki   \n",
       "9    gibran firdausy achmad     17              SMA/SMK     Laki laki   \n",
       "10        brananti ratuasty     16              SMA/SMK     Perempuan   \n",
       "\n",
       "    Pengetahuan_Bisnis_Digital  Pengetahuan_ECommerce  Keinginan_Buka_Usaha  \\\n",
       "0                            1                      5                     5   \n",
       "1                            2                      1                     3   \n",
       "2                            3                      4                     4   \n",
       "4                            4                      4                     5   \n",
       "5                            1                      1                     5   \n",
       "6                            4                      1                     4   \n",
       "7                            3                      5                     3   \n",
       "8                            5                      5                     5   \n",
       "9                            3                      4                     2   \n",
       "10                           2                      1                     4   \n",
       "\n",
       "   Aplikasi_Ecommerce                                       Jenis_Barang  \\\n",
       "0              Lazada       Elektronik, Fashion, Makanan, Pakaian, Tiket   \n",
       "1              Shopee  Elektronik, Fashion, Pakaian, Sepatu, Buku, Ke...   \n",
       "2              Shopee                       Makanan, Pakaian, Kecantikan   \n",
       "4              Shopee                       Elektronik, Fashion, Makanan   \n",
       "5              Shopee  Fashion, Makanan, Pakaian, Sepatu, Buku, Kecan...   \n",
       "6              Shopee                                      Makanan, Buku   \n",
       "7              Shopee                                Pakaian, Kecantikan   \n",
       "8              Shopee                                             Sepatu   \n",
       "9              Shopee                              Elektronik, Olahraga    \n",
       "10             Shopee                                Fashion, Kecantikan   \n",
       "\n",
       "   Kelebihan_Belanja_Online Waktu_Belanja_Online  \\\n",
       "0                   Efisien        Tanggal Promo   \n",
       "1                   Efisien    Pertengahan bulan   \n",
       "2              Promo, Harga    Pertengahan bulan   \n",
       "4              Promo, Harga           Awal bulan   \n",
       "5     Promo, Harga, Efisien        Tanggal Promo   \n",
       "6              Promo, Harga        Tanggal Promo   \n",
       "7              Promo, Harga    Pertengahan bulan   \n",
       "8                     Harga           Awal bulan   \n",
       "9              Promo, Harga        Tanggal Promo   \n",
       "10    Promo, Harga, Efisien           Awal bulan   \n",
       "\n",
       "                       Faktor_Tertarik_Belanja_Online  \n",
       "0                                       Gratis ongkir  \n",
       "1                                       Gratis ongkir  \n",
       "2                                       Gratis ongkir  \n",
       "4                                       Gratis ongkir  \n",
       "5   sesuai kebutuhan dsn mencari diskon serta grat...  \n",
       "6                                              Diskon  \n",
       "7          Barang tidak bisa ditemukan di dekat rumah  \n",
       "8                                              Diskon  \n",
       "9                                              Diskon  \n",
       "10                                          Kebutuhan  "
      ]
     },
     "execution_count": 3,
     "metadata": {},
     "output_type": "execute_result"
    }
   ],
   "source": [
    "variable_data = [\n",
    "    'Nama', 'Umur', 'Tingkatan_Pendidikan', 'Jenis_kelamin',\n",
    "    'Pengetahuan_Bisnis_Digital', 'Pengetahuan_ECommerce',\n",
    "    'Keinginan_Buka_Usaha', 'Aplikasi_Ecommerce', 'Jenis_Barang',\n",
    "    'Kelebihan_Belanja_Online','Waktu_Belanja_Online', \n",
    "    'Faktor_Tertarik_Belanja_Online',\n",
    "]\n",
    "\n",
    "data_kuisioner = pd.read_csv(\"./data/Kuisioner.csv\")\n",
    "\n",
    "data_kuisioner = data_kuisioner.loc[:, variable_data]\n",
    "data_kuisioner[\"Nama\"] = data_kuisioner.Nama.apply(lambda v: v.lower())\n",
    "data_kuisioner.drop_duplicates(subset=[\"Nama\"], inplace=True)\n",
    "data_kuisioner[\"Aplikasi_Ecommerce\"] = data_kuisioner[\"Aplikasi_Ecommerce\"].apply(clean_Aplikasi_Ecommerce)\n",
    "data_kuisioner[\"Waktu_Belanja_Online\"] = data_kuisioner[\"Waktu_Belanja_Online\"].apply(clean_Waktu_Belanja_Online)\n",
    "data_kuisioner[\"Jenis_Barang\"] = data_kuisioner[\"Jenis_Barang\"].apply(clean_Jenis_Barang)\n",
    "\n",
    "data_kuisioner.head(10)\n",
    "\n"
   ]
  },
  {
   "cell_type": "markdown",
   "metadata": {},
   "source": [
    "##### Melihat data yang akan kita observasi"
   ]
  },
  {
   "cell_type": "code",
   "execution_count": 4,
   "metadata": {},
   "outputs": [
    {
     "name": "stdout",
     "output_type": "stream",
     "text": [
      "<class 'pandas.core.frame.DataFrame'>\n",
      "Int64Index: 248 entries, 0 to 248\n",
      "Data columns (total 12 columns):\n",
      " #   Column                          Non-Null Count  Dtype \n",
      "---  ------                          --------------  ----- \n",
      " 0   Nama                            248 non-null    object\n",
      " 1   Umur                            248 non-null    int64 \n",
      " 2   Tingkatan_Pendidikan            248 non-null    object\n",
      " 3   Jenis_kelamin                   248 non-null    object\n",
      " 4   Pengetahuan_Bisnis_Digital      248 non-null    int64 \n",
      " 5   Pengetahuan_ECommerce           248 non-null    int64 \n",
      " 6   Keinginan_Buka_Usaha            248 non-null    int64 \n",
      " 7   Aplikasi_Ecommerce              248 non-null    object\n",
      " 8   Jenis_Barang                    248 non-null    object\n",
      " 9   Kelebihan_Belanja_Online        248 non-null    object\n",
      " 10  Waktu_Belanja_Online            248 non-null    object\n",
      " 11  Faktor_Tertarik_Belanja_Online  248 non-null    object\n",
      "dtypes: int64(4), object(8)\n",
      "memory usage: 25.2+ KB\n"
     ]
    }
   ],
   "source": [
    "data_kuisioner.info()"
   ]
  },
  {
   "cell_type": "markdown",
   "metadata": {},
   "source": [
    "Disini dapat kita lihat bahwa data kuisioner yang akan kita oleh memiliki 252 baris dan 14 kolom seperti yang tertera pada data di atas"
   ]
  },
  {
   "cell_type": "markdown",
   "metadata": {},
   "source": [
    "##### Pengolahan data Pada Kolom `Umur`"
   ]
  },
  {
   "cell_type": "markdown",
   "metadata": {},
   "source": [
    "mari kita lihat umur paling muda, paling tua, serta rata-rata dari pengisi form dalam list pengisian form"
   ]
  },
  {
   "cell_type": "code",
   "execution_count": 5,
   "metadata": {},
   "outputs": [
    {
     "name": "stdout",
     "output_type": "stream",
     "text": [
      "\n",
      "Termuda  \t: 14\n",
      "Tertua   \t: 24\n",
      "rata-rata \t: 16.68951612903226\n",
      "\n"
     ]
    }
   ],
   "source": [
    "ter_muda = data_kuisioner[\"Umur\"].min()\n",
    "ter_tua = data_kuisioner[\"Umur\"].max()\n",
    "rata_rata_umur = data_kuisioner[\"Umur\"].mean()\n",
    "\n",
    "print(f\"\"\"\n",
    "Termuda  \\t: {ter_muda}\n",
    "Tertua   \\t: {ter_tua}\n",
    "rata-rata \\t: {rata_rata_umur}\n",
    "\"\"\")"
   ]
  },
  {
   "cell_type": "markdown",
   "metadata": {},
   "source": [
    "mari kita lihat berapa banyak pengisi data yang di bawah umur rata-rata dan yang di atas umur rata-rata"
   ]
  },
  {
   "cell_type": "code",
   "execution_count": 6,
   "metadata": {},
   "outputs": [
    {
     "name": "stdout",
     "output_type": "stream",
     "text": [
      "\n",
      "dibawah rata-rata \t: 119\n",
      "diatas rata-rata \t: 129\n",
      "\n"
     ]
    }
   ],
   "source": [
    "umur_dibawah_rata_rata = len(data_kuisioner[data_kuisioner[\"Umur\"] < rata_rata_umur])\n",
    "umur_diatas_rata_rata = len(data_kuisioner[data_kuisioner[\"Umur\"] > rata_rata_umur])\n",
    "\n",
    "print(f\"\"\"\n",
    "dibawah rata-rata \\t: {umur_dibawah_rata_rata}\n",
    "diatas rata-rata \\t: {umur_diatas_rata_rata}\n",
    "\"\"\")\n"
   ]
  },
  {
   "cell_type": "markdown",
   "metadata": {},
   "source": [
    "Mari kita lihat persentase terkait umur yang mengisi kuisioner"
   ]
  },
  {
   "cell_type": "code",
   "execution_count": 7,
   "metadata": {},
   "outputs": [
    {
     "data": {
      "text/plain": [
       "14     0.403226\n",
       "15    19.354839\n",
       "16    28.225806\n",
       "17    29.838710\n",
       "18    11.693548\n",
       "19     8.467742\n",
       "20     0.806452\n",
       "21     0.806452\n",
       "24     0.403226\n",
       "Name: Umur, dtype: float64"
      ]
     },
     "execution_count": 7,
     "metadata": {},
     "output_type": "execute_result"
    }
   ],
   "source": [
    "persentase = (data_kuisioner.Umur.value_counts().sort_index(ascending=True) / data_kuisioner.shape[0]) * 100\n",
    "persentase\n"
   ]
  },
  {
   "cell_type": "markdown",
   "metadata": {},
   "source": [
    "Pengolahan data pada Kolom `Tingkatan_Pendidikan`"
   ]
  },
  {
   "cell_type": "markdown",
   "metadata": {},
   "source": [
    "mari kita melihat tingkatan pendidikan apa saja yang mengisi kuisioner ini"
   ]
  },
  {
   "cell_type": "code",
   "execution_count": 8,
   "metadata": {},
   "outputs": [
    {
     "name": "stdout",
     "output_type": "stream",
     "text": [
      "tingkatan pendidikan yang mengisi kuisioner antara lain: SMA/SMK, Mahasiswa\n"
     ]
    }
   ],
   "source": [
    "tingkatan_pendidikan = data_kuisioner.Tingkatan_Pendidikan.unique()\n",
    "print(\"tingkatan pendidikan yang mengisi kuisioner antara lain:\", \", \".join(tingkatan_pendidikan.tolist()))"
   ]
  },
  {
   "cell_type": "markdown",
   "metadata": {},
   "source": [
    "##### Pengolahan data pada Kolom `Jenis_Kelamin`"
   ]
  },
  {
   "cell_type": "markdown",
   "metadata": {},
   "source": [
    "Mari kita lihat berapa banyak pengisi dari perempuan dan laki-laki"
   ]
  },
  {
   "cell_type": "code",
   "execution_count": 9,
   "metadata": {},
   "outputs": [
    {
     "data": {
      "text/plain": [
       "Laki laki    140\n",
       "Perempuan    108\n",
       "Name: Jenis_kelamin, dtype: int64"
      ]
     },
     "execution_count": 9,
     "metadata": {},
     "output_type": "execute_result"
    }
   ],
   "source": [
    "gender = data_kuisioner[\"Jenis_kelamin\"].value_counts()\n",
    "gender"
   ]
  },
  {
   "cell_type": "markdown",
   "metadata": {},
   "source": [
    "mari kita buat presentasi dari jenis perempuan dan laki-laki\n"
   ]
  },
  {
   "cell_type": "code",
   "execution_count": 10,
   "metadata": {},
   "outputs": [
    {
     "data": {
      "text/plain": [
       "Laki laki    56.451613\n",
       "Perempuan    43.548387\n",
       "Name: Jenis_kelamin, dtype: float64"
      ]
     },
     "execution_count": 10,
     "metadata": {},
     "output_type": "execute_result"
    }
   ],
   "source": [
    "persentaseGender = gender / gender.sum() * 100\n",
    "persentaseGender"
   ]
  },
  {
   "cell_type": "markdown",
   "metadata": {},
   "source": [
    "##### Eksplorasi dataset kedalam topic"
   ]
  },
  {
   "cell_type": "markdown",
   "metadata": {},
   "source": [
    "1. Pandangan positif Keseluruhan belanja online menurut wanita dan pria"
   ]
  },
  {
   "cell_type": "code",
   "execution_count": 11,
   "metadata": {},
   "outputs": [
    {
     "data": {
      "text/plain": [
       "Gratis ongkir    100\n",
       "Diskon            64\n",
       "Kebutuhan         61\n",
       "Cashback           6\n",
       "Others            17\n",
       "dtype: int64"
      ]
     },
     "execution_count": 11,
     "metadata": {},
     "output_type": "execute_result"
    }
   ],
   "source": [
    "setiap_alasan_positif = data_kuisioner.Faktor_Tertarik_Belanja_Online.value_counts()\n",
    "top_data = setiap_alasan_positif.iloc[:4]\n",
    "pd.Series({\"Others\": setiap_alasan_positif[4:].count()})\n",
    "\n",
    "d = pd.concat([top_data, pd.Series({\"Others\": setiap_alasan_positif[4:].count()})])\n",
    "d\n"
   ]
  }
 ],
 "metadata": {
  "kernelspec": {
   "display_name": "Python 3.10.6 64-bit",
   "language": "python",
   "name": "python3"
  },
  "language_info": {
   "codemirror_mode": {
    "name": "ipython",
    "version": 3
   },
   "file_extension": ".py",
   "mimetype": "text/x-python",
   "name": "python",
   "nbconvert_exporter": "python",
   "pygments_lexer": "ipython3",
   "version": "3.10.6"
  },
  "orig_nbformat": 4,
  "vscode": {
   "interpreter": {
    "hash": "6af882af9f2c3b3baf10d9de329049db9edd546f5a97c4f1702b359f35c452dc"
   }
  }
 },
 "nbformat": 4,
 "nbformat_minor": 2
}
